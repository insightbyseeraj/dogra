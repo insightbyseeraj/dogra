{
  "nbformat": 4,
  "nbformat_minor": 0,
  "metadata": {
    "colab": {
      "provenance": []
    },
    "kernelspec": {
      "name": "python3",
      "display_name": "Python 3"
    },
    "language_info": {
      "name": "python"
    }
  },
  "cells": [
    {
      "cell_type": "markdown",
      "source": [
        "#seeraj\n",
        "1. who are you\n",
        "   - this is the wayre"
      ],
      "metadata": {
        "id": "jC29CZ0WU-Dz"
      }
    },
    {
      "cell_type": "code",
      "source": [],
      "metadata": {
        "id": "hbFRjyq8U6-A"
      },
      "execution_count": null,
      "outputs": []
    },
    {
      "cell_type": "markdown",
      "source": [],
      "metadata": {
        "id": "722uuTDnU7UB"
      }
    }
  ]
}